{
 "cells": [
  {
   "cell_type": "code",
   "execution_count": 1,
   "id": "34c48506-9c6d-40b1-9136-2758c89d9b11",
   "metadata": {},
   "outputs": [
    {
     "ename": "TclError",
     "evalue": "unknown option \"-textVariable\"",
     "output_type": "error",
     "traceback": [
      "\u001b[1;31m---------------------------------------------------------------------------\u001b[0m",
      "\u001b[1;31mTclError\u001b[0m                                  Traceback (most recent call last)",
      "Input \u001b[1;32mIn [1]\u001b[0m, in \u001b[0;36m<module>\u001b[1;34m\u001b[0m\n\u001b[0;32m     13\u001b[0m usernameLabel \u001b[38;5;241m=\u001b[39m Label(tkWindow, text\u001b[38;5;241m=\u001b[39m\u001b[38;5;124m\"\u001b[39m\u001b[38;5;124mUser name\u001b[39m\u001b[38;5;124m\"\u001b[39m)\u001b[38;5;241m.\u001b[39mgrid(row\u001b[38;5;241m=\u001b[39m\u001b[38;5;241m0\u001b[39m, column\u001b[38;5;241m=\u001b[39m\u001b[38;5;241m0\u001b[39m)\n\u001b[0;32m     14\u001b[0m username \u001b[38;5;241m=\u001b[39m StringVar()\n\u001b[1;32m---> 15\u001b[0m usernameEntry \u001b[38;5;241m=\u001b[39m \u001b[43mEntry\u001b[49m\u001b[43m(\u001b[49m\u001b[43mtkWindow\u001b[49m\u001b[43m,\u001b[49m\u001b[43m \u001b[49m\u001b[43mtextVariable\u001b[49m\u001b[38;5;241;43m=\u001b[39;49m\u001b[43musername\u001b[49m\u001b[43m)\u001b[49m\u001b[38;5;241m.\u001b[39mgrid(row\u001b[38;5;241m=\u001b[39m\u001b[38;5;241m0\u001b[39m, column\u001b[38;5;241m=\u001b[39m\u001b[38;5;241m1\u001b[39m)\n\u001b[0;32m     17\u001b[0m passwordLabel \u001b[38;5;241m=\u001b[39m Label(tkWindow, text\u001b[38;5;241m=\u001b[39m\u001b[38;5;124m\"\u001b[39m\u001b[38;5;124mPassword\u001b[39m\u001b[38;5;124m\"\u001b[39m)\u001b[38;5;241m.\u001b[39mgrid(row\u001b[38;5;241m=\u001b[39m\u001b[38;5;241m1\u001b[39m, column\u001b[38;5;241m=\u001b[39m\u001b[38;5;241m0\u001b[39m)\n\u001b[0;32m     18\u001b[0m password \u001b[38;5;241m=\u001b[39m StringVar()\n",
      "File \u001b[1;32m~\\AppData\\Local\\Programs\\Python\\Python39\\lib\\tkinter\\__init__.py:3035\u001b[0m, in \u001b[0;36mEntry.__init__\u001b[1;34m(self, master, cnf, **kw)\u001b[0m\n\u001b[0;32m   3024\u001b[0m \u001b[38;5;28;01mdef\u001b[39;00m \u001b[38;5;21m__init__\u001b[39m(\u001b[38;5;28mself\u001b[39m, master\u001b[38;5;241m=\u001b[39m\u001b[38;5;28;01mNone\u001b[39;00m, cnf\u001b[38;5;241m=\u001b[39m{}, \u001b[38;5;241m*\u001b[39m\u001b[38;5;241m*\u001b[39mkw):\n\u001b[0;32m   3025\u001b[0m     \u001b[38;5;124;03m\"\"\"Construct an entry widget with the parent MASTER.\u001b[39;00m\n\u001b[0;32m   3026\u001b[0m \n\u001b[0;32m   3027\u001b[0m \u001b[38;5;124;03m    Valid resource names: background, bd, bg, borderwidth, cursor,\u001b[39;00m\n\u001b[1;32m   (...)\u001b[0m\n\u001b[0;32m   3033\u001b[0m \u001b[38;5;124;03m    textvariable, validate, validatecommand, vcmd, width,\u001b[39;00m\n\u001b[0;32m   3034\u001b[0m \u001b[38;5;124;03m    xscrollcommand.\"\"\"\u001b[39;00m\n\u001b[1;32m-> 3035\u001b[0m     \u001b[43mWidget\u001b[49m\u001b[38;5;241;43m.\u001b[39;49m\u001b[38;5;21;43m__init__\u001b[39;49m\u001b[43m(\u001b[49m\u001b[38;5;28;43mself\u001b[39;49m\u001b[43m,\u001b[49m\u001b[43m \u001b[49m\u001b[43mmaster\u001b[49m\u001b[43m,\u001b[49m\u001b[43m \u001b[49m\u001b[38;5;124;43m'\u001b[39;49m\u001b[38;5;124;43mentry\u001b[39;49m\u001b[38;5;124;43m'\u001b[39;49m\u001b[43m,\u001b[49m\u001b[43m \u001b[49m\u001b[43mcnf\u001b[49m\u001b[43m,\u001b[49m\u001b[43m \u001b[49m\u001b[43mkw\u001b[49m\u001b[43m)\u001b[49m\n",
      "File \u001b[1;32m~\\AppData\\Local\\Programs\\Python\\Python39\\lib\\tkinter\\__init__.py:2572\u001b[0m, in \u001b[0;36mBaseWidget.__init__\u001b[1;34m(self, master, widgetName, cnf, kw, extra)\u001b[0m\n\u001b[0;32m   2570\u001b[0m \u001b[38;5;28;01mfor\u001b[39;00m k, v \u001b[38;5;129;01min\u001b[39;00m classes:\n\u001b[0;32m   2571\u001b[0m     \u001b[38;5;28;01mdel\u001b[39;00m cnf[k]\n\u001b[1;32m-> 2572\u001b[0m \u001b[38;5;28;43mself\u001b[39;49m\u001b[38;5;241;43m.\u001b[39;49m\u001b[43mtk\u001b[49m\u001b[38;5;241;43m.\u001b[39;49m\u001b[43mcall\u001b[49m\u001b[43m(\u001b[49m\n\u001b[0;32m   2573\u001b[0m \u001b[43m    \u001b[49m\u001b[43m(\u001b[49m\u001b[43mwidgetName\u001b[49m\u001b[43m,\u001b[49m\u001b[43m \u001b[49m\u001b[38;5;28;43mself\u001b[39;49m\u001b[38;5;241;43m.\u001b[39;49m\u001b[43m_w\u001b[49m\u001b[43m)\u001b[49m\u001b[43m \u001b[49m\u001b[38;5;241;43m+\u001b[39;49m\u001b[43m \u001b[49m\u001b[43mextra\u001b[49m\u001b[43m \u001b[49m\u001b[38;5;241;43m+\u001b[39;49m\u001b[43m \u001b[49m\u001b[38;5;28;43mself\u001b[39;49m\u001b[38;5;241;43m.\u001b[39;49m\u001b[43m_options\u001b[49m\u001b[43m(\u001b[49m\u001b[43mcnf\u001b[49m\u001b[43m)\u001b[49m\u001b[43m)\u001b[49m\n\u001b[0;32m   2574\u001b[0m \u001b[38;5;28;01mfor\u001b[39;00m k, v \u001b[38;5;129;01min\u001b[39;00m classes:\n\u001b[0;32m   2575\u001b[0m     k\u001b[38;5;241m.\u001b[39mconfigure(\u001b[38;5;28mself\u001b[39m, v)\n",
      "\u001b[1;31mTclError\u001b[0m: unknown option \"-textVariable\""
     ]
    }
   ],
   "source": [
    "from tkinter import *\n",
    "from functools import partial\n",
    "\n",
    "def validateLogin(username,password):\n",
    "  print('username entered: ', username.get())\n",
    "  print('password entered: ', password.get())\n",
    "  return\n",
    "\n",
    "tkWindow = Tk()\n",
    "tkWindow.geometry('400x150')\n",
    "tkWindow.title('IoT class')\n",
    "\n",
    "usernameLabel = Label(tkWindow, text=\"User name\").grid(row=0, column=0)\n",
    "username = StringVar()\n",
    "usernameEntry = Entry(tkWindow, textVariable=username).grid(row=0, column=1)\n",
    "\n",
    "passwordLabel = Label(tkWindow, text=\"Password\").grid(row=1, column=0)\n",
    "password = StringVar()\n",
    "passwordEntry = Entry(tkWindow, textVariable=password).grid(row=1, column=1)\n",
    "\n",
    "validateLogin = partial(validateLogin, username, password)\n",
    "\n",
    "loginButton = Button(tkWindow, text=\"Login\", command=validateLogin).grid(row=4, column=0)\n",
    "tkWindow.mainloop()"
   ]
  },
  {
   "cell_type": "code",
   "execution_count": null,
   "id": "3f636bc8-07f3-4e03-bfe5-cb483eb31d44",
   "metadata": {},
   "outputs": [],
   "source": [
    "from tkinter import *\n",
    "from functools import partial\n",
    "\n",
    "def validateLogin(username, password):\n",
    "  print(\"username entered :\", username.get())\n",
    "  print(\"password entered :\", password.get())\n",
    "  return\n",
    "\n",
    "tkWindow = Tk()\n",
    "tkWindow.geometry('400x150')\n",
    "tkWindow.title('Tkinter Login Form - pythonexamples.org')\n",
    "usernameLabel = Label(tkWindow, text=\"User Name\").grid(row=0, column=0)\n",
    "username = StringVar()\n",
    "usernameEntry = Entry(tkWindow, textvariable=username).grid(row=0, column=1)\n",
    "\n",
    "passwordLabel = Label(tkWindow,text=\"Password\").grid(row=1, column=0)\n",
    "password = StringVar()\n",
    "passwordEntry = Entry(tkWindow, textvariable=password, show='*').grid(row=1, column=1)\n",
    "validateLogin = partial(validateLogin, username, password)\n",
    "loginButton = Button(tkWindow, text=\"Login\", command=validateLogin).grid(row=4, column=0)\n",
    "\n",
    "tkWindow.mainloop()"
   ]
  },
  {
   "cell_type": "code",
   "execution_count": null,
   "id": "a6986a4c-dc19-4883-9755-622d1c89604d",
   "metadata": {},
   "outputs": [],
   "source": []
  }
 ],
 "metadata": {
  "kernelspec": {
   "display_name": "Python 3 (ipykernel)",
   "language": "python",
   "name": "python3"
  },
  "language_info": {
   "codemirror_mode": {
    "name": "ipython",
    "version": 3
   },
   "file_extension": ".py",
   "mimetype": "text/x-python",
   "name": "python",
   "nbconvert_exporter": "python",
   "pygments_lexer": "ipython3",
   "version": "3.9.7"
  }
 },
 "nbformat": 4,
 "nbformat_minor": 5
}
