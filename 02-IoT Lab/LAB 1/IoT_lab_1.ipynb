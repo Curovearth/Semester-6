{
  "nbformat": 4,
  "nbformat_minor": 0,
  "metadata": {
    "colab": {
      "name": "IoT lab 1.ipynb",
      "provenance": []
    },
    "kernelspec": {
      "name": "python3",
      "display_name": "Python 3"
    },
    "language_info": {
      "name": "python"
    }
  },
  "cells": [
    {
      "cell_type": "markdown",
      "source": [
        "## **Data preprocessing can refer to manipulation or dropping of data before it is used in order to ensure or enhance performance**"
      ],
      "metadata": {
        "id": "408zNOtfXgwP"
      }
    },
    {
      "cell_type": "code",
      "source": [
        "# SCALING\n",
        "\n",
        "from pandas import read_csv\n",
        "from numpy import set_printoptions\n",
        "from sklearn import preprocessing\n",
        "\n",
        "# Read the CSV file and prepare the array\n",
        "\n",
        "names = ['preg', 'plas', 'pres', 'skin', 'test', 'mass', 'pedi', 'age', 'class']\n",
        "dataframe = read_csv(\"pima-indians-diabetes.csv\", names=names)\n",
        "array = dataframe.values\n",
        "\n",
        "# Using MinMaxScaler class to rescale the data in the range of 0 and 1.\n",
        "\n",
        "data_scaler = preprocessing.MinMaxScaler(feature_range=(0,1))     # ( X - min(X) )/( max(X) - min(X) )\n",
        "data_rescaled = data_scaler.fit_transform(array)\n",
        "\n",
        "# Setting the precision to 2\n",
        "\n",
        "set_printoptions(precision=2)\n",
        "\n",
        "# Showing the first 10 rows in the output\n",
        "\n",
        "print (\"\\nScaled data:\\n\", data_rescaled[0:10])\n",
        "print (\"\\nReScaled data:\\n\", data_rescaled[0:5])\n"
      ],
      "metadata": {
        "colab": {
          "base_uri": "https://localhost:8080/"
        },
        "id": "j9ujiJ6kL9QB",
        "outputId": "ca0f5a7d-c0ab-49b0-c49f-f773d062afeb"
      },
      "execution_count": 12,
      "outputs": [
        {
          "output_type": "stream",
          "name": "stdout",
          "text": [
            "\n",
            "Scaled data:\n",
            " [[0.35 0.74 0.59 0.35 0.   0.5  0.23 0.48 1.  ]\n",
            " [0.06 0.43 0.54 0.29 0.   0.4  0.12 0.17 0.  ]\n",
            " [0.47 0.92 0.52 0.   0.   0.35 0.25 0.18 1.  ]\n",
            " [0.06 0.45 0.54 0.23 0.11 0.42 0.04 0.   0.  ]\n",
            " [0.   0.69 0.33 0.35 0.2  0.64 0.94 0.2  1.  ]\n",
            " [0.29 0.58 0.61 0.   0.   0.38 0.05 0.15 0.  ]\n",
            " [0.18 0.39 0.41 0.32 0.1  0.46 0.07 0.08 1.  ]\n",
            " [0.59 0.58 0.   0.   0.   0.53 0.02 0.13 0.  ]\n",
            " [0.12 0.99 0.57 0.45 0.64 0.45 0.03 0.53 1.  ]\n",
            " [0.47 0.63 0.79 0.   0.   0.   0.07 0.55 1.  ]]\n",
            "\n",
            "ReScaled data:\n",
            " [[0.35 0.74 0.59 0.35 0.   0.5  0.23 0.48 1.  ]\n",
            " [0.06 0.43 0.54 0.29 0.   0.4  0.12 0.17 0.  ]\n",
            " [0.47 0.92 0.52 0.   0.   0.35 0.25 0.18 1.  ]\n",
            " [0.06 0.45 0.54 0.23 0.11 0.42 0.04 0.   0.  ]\n",
            " [0.   0.69 0.33 0.35 0.2  0.64 0.94 0.2  1.  ]]\n"
          ]
        }
      ]
    },
    {
      "cell_type": "code",
      "source": [
        "# The code for L1 Normalization is\n",
        "\n",
        "'''\n",
        "It may be defined as the normalization technique that modifies the dataset values in a way that in each row the sum of the absolute values will always be up to 1. \n",
        "It is also called Least Absolute Deviations.\n",
        "'''\n",
        "\n",
        "from pandas import read_csv\n",
        "from numpy import set_printoptions\n",
        "from sklearn.preprocessing import Normalizer\n",
        "\n",
        "# Read the CSV file and prepare the array\n",
        "\n",
        "names = ['preg', 'plas', 'pres', 'skin', 'test', 'mass', 'pedi', 'age', 'class']\n",
        "dataframe = read_csv(\"pima-indians-diabetes.csv\", names=names)\n",
        "array = dataframe.values\n",
        "\n",
        "# Using Normalizer class with L1 to normalize the data.\n",
        "\n",
        "Data_normalizer = Normalizer(norm='l1').fit(array)\n",
        "Data_normalized = Data_normalizer.transform(array)\n",
        "\n",
        "# Setting the precision to 2\n",
        "\n",
        "set_printoptions(precision=2)\n",
        "\n",
        "# Showing the first 3 rows in the output\n",
        "\n",
        "print (\"\\nNormalized data:\\n\", Data_normalized [0:3])"
      ],
      "metadata": {
        "colab": {
          "base_uri": "https://localhost:8080/"
        },
        "id": "hW-ByhEhRq4L",
        "outputId": "0c6d4f15-7cf8-424c-9df2-3ebce52db228"
      },
      "execution_count": 13,
      "outputs": [
        {
          "output_type": "stream",
          "name": "stdout",
          "text": [
            "\n",
            "Normalized data:\n",
            " [[0.02 0.43 0.21 0.1  0.   0.1  0.   0.14 0.  ]\n",
            " [0.   0.36 0.28 0.12 0.   0.11 0.   0.13 0.  ]\n",
            " [0.03 0.59 0.21 0.   0.   0.07 0.   0.1  0.  ]]\n"
          ]
        }
      ]
    },
    {
      "cell_type": "markdown",
      "source": [
        ""
      ],
      "metadata": {
        "id": "YItzQyRfXd4J"
      }
    },
    {
      "cell_type": "code",
      "source": [
        "# The code for L2 Normalization is\n",
        "\n",
        "from pandas import read_csv\n",
        "from numpy import set_printoptions\n",
        "from sklearn.preprocessing import Normalizer\n",
        "\n",
        "# Read the CSV file and prepare the array\n",
        "\n",
        "names = ['preg', 'plas', 'pres', 'skin', 'test', 'mass', 'pedi', 'age', 'class']\n",
        "dataframe = read_csv(\"pima-indians-diabetes.csv\", names=names)\n",
        "array = dataframe.values\n",
        "\n",
        "# Using Normalizer class with L2 to normalize the data.\n",
        "\n",
        "Data_normalizer = Normalizer(norm='l2').fit(array)\n",
        "Data_normalized = Data_normalizer.transform(array)\n",
        "\n",
        "# Setting the precision to 2\n",
        "\n",
        "set_printoptions(precision=2)\n",
        "\n",
        "# Showing the first 3 rows in the output\n",
        "\n",
        "print (\"\\nNormalized data:\\n\", Data_normalized [0:3])"
      ],
      "metadata": {
        "colab": {
          "base_uri": "https://localhost:8080/"
        },
        "id": "eDn4mhi8R7SM",
        "outputId": "cbf000d2-c3d3-4ed6-a3b6-e4e3fae70347"
      },
      "execution_count": 15,
      "outputs": [
        {
          "output_type": "stream",
          "name": "stdout",
          "text": [
            "\n",
            "Normalized data:\n",
            " [[0.03 0.83 0.4  0.2  0.   0.19 0.   0.28 0.01]\n",
            " [0.01 0.72 0.56 0.24 0.   0.22 0.   0.26 0.  ]\n",
            " [0.04 0.92 0.32 0.   0.   0.12 0.   0.16 0.01]]\n"
          ]
        }
      ]
    },
    {
      "cell_type": "code",
      "source": [
        "#STANDARDISATION\n",
        "\n",
        "'''\n",
        "Transforming data with gaussian distribution\n",
        "\n",
        "Standard normal Distribution = z = (x-mean) / standard deviation\n",
        "\n",
        "Why Gaussian is helpful?\n",
        "can be used to calculate the probability for any individual observation from the sample space.\n",
        "'''\n",
        "\n",
        "from pandas import read_csv\n",
        "from numpy import set_printoptions\n",
        "from sklearn.preprocessing import StandardScaler\n",
        "\n",
        "# Read the CSV file and prepare the array\n",
        "\n",
        "names = ['preg', 'plas', 'pres', 'skin', 'test', 'mass', 'pedi', 'age', 'class']\n",
        "dataframe = read_csv(\"pima-indians-diabetes.csv\", names=names)\n",
        "array = dataframe.values\n",
        "\n",
        "# Using StandardScaler class to rescale the data.\n",
        "\n",
        "data_scaler = StandardScaler().fit(array)\n",
        "data_rescaled = data_scaler.transform(array)\n",
        "\n",
        "# Setting the precision to 2\n",
        "\n",
        "set_printoptions(precision=2)\n",
        "\n",
        "# Showing the first 3 rows in the output\n",
        "\n",
        "print (\"\\nRescaled data:\\n\", data_rescaled [0:3])"
      ],
      "metadata": {
        "colab": {
          "base_uri": "https://localhost:8080/"
        },
        "id": "NLgjzTQ6UGBC",
        "outputId": "1164dab3-8e23-4c32-950e-d34ffd9da7ea"
      },
      "execution_count": 16,
      "outputs": [
        {
          "output_type": "stream",
          "name": "stdout",
          "text": [
            "\n",
            "Rescaled data:\n",
            " [[ 0.64  0.85  0.15  0.91 -0.69  0.2   0.47  1.43  1.37]\n",
            " [-0.84 -1.12 -0.16  0.53 -0.69 -0.68 -0.37 -0.19 -0.73]\n",
            " [ 1.23  1.94 -0.26 -1.29 -0.69 -1.1   0.6  -0.11  1.37]]\n"
          ]
        }
      ]
    },
    {
      "cell_type": "code",
      "source": [
        "# BINARIZATION\n",
        "\n",
        "'''\n",
        "the process of dividing data into two groups and assigning one out. of two values to all the members of the same group. \n",
        "This is usually accomplished by defining a threshold t and assigning the value 0 to all the data points below the threshold and 1 to those above it.\n",
        "'''\n",
        "\n",
        "from pandas import read_csv\n",
        "from numpy import set_printoptions\n",
        "from sklearn.preprocessing import Binarizer\n",
        "\n",
        "# Read the CSV file and prepare the array\n",
        "\n",
        "names = ['preg', 'plas', 'pres', 'skin', 'test', 'mass', 'pedi', 'age', 'class']\n",
        "dataframe = read_csv(\"pima-indians-diabetes.csv\", names=names)\n",
        "array = dataframe.values\n",
        "\n",
        "# Using Binarize class to convert the data into binary values.\n",
        "\n",
        "binarizer = Binarizer(threshold=0.5).fit(array)\n",
        "Data_binarized = binarizer.transform(array)\n",
        "\n",
        "# Showing the first 3 rows in the output\n",
        "\n",
        "print (\"\\nBinary data:\\n\", Data_binarized [0:3])"
      ],
      "metadata": {
        "colab": {
          "base_uri": "https://localhost:8080/"
        },
        "id": "koOlZFiHVwT3",
        "outputId": "866e4cf5-92d8-43ac-e6f1-b2171c1b3117"
      },
      "execution_count": 17,
      "outputs": [
        {
          "output_type": "stream",
          "name": "stdout",
          "text": [
            "\n",
            "Binary data:\n",
            " [[1. 1. 1. 1. 0. 1. 1. 1. 1.]\n",
            " [1. 1. 1. 1. 0. 1. 0. 1. 0.]\n",
            " [1. 1. 1. 0. 0. 1. 1. 1. 1.]]\n"
          ]
        }
      ]
    }
  ]
}