{
  "nbformat": 4,
  "nbformat_minor": 0,
  "metadata": {
    "colab": {
      "name": "IoT_Lab_2.ipynb",
      "provenance": []
    },
    "kernelspec": {
      "name": "python3",
      "display_name": "Python 3"
    },
    "language_info": {
      "name": "python"
    }
  },
  "cells": [
    {
      "cell_type": "code",
      "execution_count": null,
      "metadata": {
        "colab": {
          "base_uri": "https://localhost:8080/",
          "height": 1000
        },
        "id": "eTHWK3y0ZwjB",
        "outputId": "5ed40629-e3cc-49d9-e02c-518bf35801e3"
      },
      "outputs": [
        {
          "output_type": "stream",
          "name": "stdout",
          "text": [
            "[[ 1.1]\n",
            " [ 1.3]\n",
            " [ 1.5]\n",
            " [ 2. ]\n",
            " [ 2.2]\n",
            " [ 2.9]\n",
            " [ 3. ]\n",
            " [ 3.2]\n",
            " [ 3.2]\n",
            " [ 3.7]\n",
            " [ 3.9]\n",
            " [ 4. ]\n",
            " [ 4. ]\n",
            " [ 4.1]\n",
            " [ 4.5]\n",
            " [ 4.9]\n",
            " [ 5.1]\n",
            " [ 5.3]\n",
            " [ 5.9]\n",
            " [ 6. ]\n",
            " [ 6.8]\n",
            " [ 7.1]\n",
            " [ 7.9]\n",
            " [ 8.2]\n",
            " [ 8.7]\n",
            " [ 9. ]\n",
            " [ 9.5]\n",
            " [ 9.6]\n",
            " [10.3]\n",
            " [10.5]]\n",
            "[ 39343  46205  37731  43525  39891  56642  60150  54445  64445  57189\n",
            "  63218  55794  56957  57081  61111  67938  66029  83088  81363  93940\n",
            "  91738  98273 101302 113812 109431 105582 116969 112635 122391 121872]\n",
            "Intercept:  26777.391341197625\n",
            "Coefficient:  [9360.26128619]\n"
          ]
        },
        {
          "output_type": "display_data",
          "data": {
            "image/png": "[encoded data removed]",
            "text/plain": [
              "<Figure size 432x288 with 1 Axes>"
            ]
          },
          "metadata": {
            "needs_background": "light"
          }
        },
        {
          "output_type": "display_data",
          "data": {
            "image/png": "[encoded data removed]",
            "text/plain": [
              "<Figure size 432x288 with 1 Axes>"
            ]
          },
          "metadata": {
            "needs_background": "light"
          }
        },
        {
          "output_type": "stream",
          "name": "stdout",
          "text": [
            "[ 40817.78327049 123188.08258899  65154.46261459  63282.41035735\n",
            " 115699.87356004 108211.66453108 116635.89968866  64218.43648597\n",
            "  76386.77615802]\n",
            "R Squared using built-in function:  0.9740993407213511\n",
            "Mean Absolute Error:  3737.4178618788937\n",
            "Root Mean Squared Error:  4834.260936361726\n",
            "R Squared using built-in function:  0.9423777652193379\n",
            "Mean Absolute Error:  5091.778618459524\n",
            "Root Mean Squared Error:  5925.878216084145\n"
          ]
        }
      ],
      "source": [
        "## Importing the dataset\n",
        "import numpy as np\n",
        "import matplotlib.pyplot as plt\n",
        "import pandas as pd\n",
        "df = pd.read_csv('Salary_Data.csv')\n",
        "x = df.iloc[:, :-1].values    #.iloc[] is primarily integer position based (from 0 to length-1 of the axis)\n",
        "y = df.iloc[:, -1].values\n",
        "#df.head()\n",
        "plt.scatter(x, y, color='black')\n",
        "plt.ylabel('Salary')\n",
        "plt.xlabel('Year')\n",
        "#plt.show()\n",
        "#df.corr()\n",
        "print(x)\n",
        "print(y)\n",
        "\n",
        "#Splitting the dataset into the Training set and Test set\n",
        "\n",
        "from sklearn.model_selection import train_test_split\n",
        "x_train, x_test, y_train, y_test = train_test_split(x, y, test_size = 0.3, random_state = 0)\n",
        "\n",
        "#Training the Simple Linear Regression model on the Training set\n",
        "\n",
        "from sklearn.linear_model import LinearRegression\n",
        "lr = LinearRegression()\n",
        "lr.fit(x_train, y_train)\n",
        "print(\"Intercept: \", lr.intercept_)\n",
        "print(\"Coefficient: \", lr.coef_)\n",
        "\n",
        "#Predicting the Test set results\n",
        "\n",
        "y_pred = lr.predict(x_test)\n",
        "\n",
        "#Visualising the Training set results\n",
        "\n",
        "plt.scatter(x_train, y_train, color = 'red')\n",
        "plt.plot(x_train, lr.predict(x_train), color = 'blue')\n",
        "plt.title('Salary vs Experience (Training set)')\n",
        "plt.xlabel('Years of Experience')\n",
        "plt.ylabel('Salary')\n",
        "plt.show()\n",
        "\n",
        "#Visualising the Test set results\n",
        "\n",
        "plt.scatter(x_test, y_test, color = 'red')\n",
        "plt.plot(x_test, lr.predict(x_test), color = 'blue')\n",
        "plt.title('Salary vs Experience (Test set)')\n",
        "plt.xlabel('Years of Experience')\n",
        "plt.ylabel('Salary')\n",
        "plt.show()\n",
        "\n",
        "# function to calculate r-squared, MAE, RMSE\n",
        "\n",
        "from sklearn.metrics import r2_score , mean_absolute_error, mean_squared_error\n",
        "\n",
        "# add predict value to the data frame\n",
        "\n",
        "y_pred = lr.predict(x_test)\n",
        "print(y_pred)\n",
        "df1 = pd.DataFrame({'Actual': y_test, 'Predicted': y_pred})\n",
        "df1.to_excel('testdata.xlsx', index = False)\n",
        "df11 =pd.read_excel ('testdata.xlsx')\n",
        "#df1.head()\n",
        "len(df1)\n",
        "\n",
        "# KPI calculation Using built-in function\n",
        "\n",
        "print(\"R Squared using built-in function: \", r2_score(df11.Actual,df11.Predicted))\n",
        "print(\"Mean Absolute Error: \", mean_absolute_error(df11.Actual,df11.Predicted))\n",
        "print(\"Root Mean Squared Error: \", np.sqrt(mean_squared_error(df11.Actual,df11.Predicted)))\n",
        "\n",
        "# add predict value to the data frame\n",
        "\n",
        "y_pred_train = lr.predict(x_train)\n",
        "#print(y_pred)\n",
        "df2 = pd.DataFrame({'Actual': y_train, 'Predicted': y_pred_train})\n",
        "df2.to_excel('traindata.xlsx', index = False)\n",
        "df22 =pd.read_excel ('traindata.xlsx')\n",
        "#df2.head()\n",
        "len(df22)\n",
        "\n",
        "# KPI calculation Using built-in function\n",
        "\n",
        "print(\"R Squared using built-in function: \", r2_score(df22.Actual,df22.Predicted))\n",
        "print(\"Mean Absolute Error: \", mean_absolute_error(df22.Actual,df22.Predicted))\n",
        "print(\"Root Mean Squared Error: \", np.sqrt(mean_squared_error(df22.Actual,df22.Predicted)))\n",
        "\n",
        "\n",
        "\n",
        "\n"
      ]
    }
  ]
}